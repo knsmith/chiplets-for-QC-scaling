{
 "cells": [
  {
   "cell_type": "markdown",
   "metadata": {},
   "source": [
    "# Using the Quantum Key Distribution Circuit Generator"
   ]
  },
  {
   "cell_type": "code",
   "execution_count": 27,
   "metadata": {},
   "outputs": [],
   "source": [
    "%run QKD.ipynb"
   ]
  },
  {
   "cell_type": "markdown",
   "metadata": {},
   "source": [
    "In order to generate a circuit instance of the Quantum Key Distribution protocol, one must first create a *QKD* class instance. This class takes in 5 parameters:\n",
    "\n",
    "1. **eave** - A boolean deciding the inclusion or exclusion of an eavesdropper (default is *False*)\n",
    "2. **init_length** - An integer setting the length of the initial message established by Alice (default is *100*)\n",
    "3. **sample_size** - An integer setting the length of the message for Alice and Bob to sample in verifying their keys (default is *15*)\n",
    "4. **seed** - An integer setting the seed of the random integer generator (default is *0*)\n",
    "5. **barriers** - A boolean deciding if barriers should be included (default is *True*, and unless there is a specific reason to exclude, it is highly recommended that they remain)"
   ]
  },
  {
   "cell_type": "markdown",
   "metadata": {},
   "source": [
    "Once the class has been created, it holds plenty of information about the protocol. Here are all of the attributes one could access:\n",
    "\n",
    "- **alice_bits** - array of the qubits that Alice originally randomly generated, all in one of the two product states, 1 or 0.\n",
    "- **alice_bases** - array of all the bases Alice will measure her qubits in. A *0* corresponds to the **Z** basis and a *1* corresponds to the **X** basis.\n",
    "- **bob_bases** - array of all the bases Bob will measure his qubits in. Again, a *0* corresponds to the **Z** basis and a *1* corresponds to the **X** basis.\n",
    "- **bob_results** - array holding the outcome of Bob measuring the message he received from Alice in his bases.\n",
    "- **alice_key** - list of Alice's key after garbage is removed and the sample is removed. If there is no eavesdropper, this should be the same as Bob's key.\n",
    "- **bob_key** - list of Bob's key after garbage is removed and the sample is removed. If there is no eavesdropper, this should be the same as Alice's key.\n",
    "- **alice_sample** - array of Alice's sample selection of her key after removing garbage. If there is no eavesdropper, this should be the same as Bob's sample.\n",
    "- **bob_sample** - array of Bob's sample selection of his key after removing garbage. If there is no eavesdropper, this should be the same as Alice's sample."
   ]
  },
  {
   "cell_type": "markdown",
   "metadata": {},
   "source": [
    "There are also two functions to keep in mind when using this class:"
   ]
  },
  {
   "cell_type": "markdown",
   "metadata": {},
   "source": [
    "1. **circuits()** - This function will return a list of circuits. Each of the circuits describes a single qubit throughout the protocol.\n",
    "2. **prob_eave_win()** - This function will return a decimal representing the probabiity that an eavesdropper could theoretically get away with their mischief (where the returned number is less than 1)."
   ]
  },
  {
   "cell_type": "markdown",
   "metadata": {},
   "source": [
    "## Example without an Eavesdropper"
   ]
  },
  {
   "cell_type": "markdown",
   "metadata": {},
   "source": [
    "For this first short tutorial, we will explore the situation of the protocol in which there is not an eavesdropper."
   ]
  },
  {
   "cell_type": "code",
   "execution_count": 28,
   "metadata": {},
   "outputs": [],
   "source": [
    "# \"ne\" stands for \"No eavesdropper\"\n",
    "ne = QKD(False, 30, 5)"
   ]
  },
  {
   "cell_type": "markdown",
   "metadata": {},
   "source": [
    "Now that the class has been created, we can create a list of the circuits so that we can better take a look at how each of the steps of the protocol occur."
   ]
  },
  {
   "cell_type": "code",
   "execution_count": 29,
   "metadata": {},
   "outputs": [],
   "source": [
    "ne_circuits = ne.circuits()"
   ]
  },
  {
   "cell_type": "markdown",
   "metadata": {},
   "source": [
    "The first part of the protocol is for Alice to randomly generate her bits and her bases."
   ]
  },
  {
   "cell_type": "code",
   "execution_count": 30,
   "metadata": {},
   "outputs": [
    {
     "name": "stdout",
     "output_type": "stream",
     "text": [
      "Alice bits:   [0 1 1 0 1 1 1 1 1 1 1 0 0 1 0 0 0 0 0 1 0 1 1 0 0 1 1 1 1 0]\n",
      "Alice bases:  [1 0 1 0 1 1 0 1 1 0 0 1 0 1 1 1 1 1 0 1 0 1 1 1 1 0 1 0 0 1]\n"
     ]
    }
   ],
   "source": [
    "print(\"Alice bits:  \", ne.alice_bits)\n",
    "print(\"Alice bases: \", ne.alice_bases)"
   ]
  },
  {
   "cell_type": "markdown",
   "metadata": {},
   "source": [
    "Remember, in the case of the bases, a *0* correponds to a measurement in the **Z** basis, and a *1* corresponds to a measurement in the **X** basis. To see this, take a look at the first element of each of the arrays. This says that Alice starts with a qubit in the 0 state and prepares for it to be measured in the **X** basis. Let's see the circuit for this qubit:"
   ]
  },
  {
   "cell_type": "code",
   "execution_count": 31,
   "metadata": {},
   "outputs": [
    {
     "data": {
      "image/png": "[encoded data removed]",
      "text/plain": [
       "<Figure size 368.306x144.48 with 1 Axes>"
      ]
     },
     "execution_count": 31,
     "metadata": {},
     "output_type": "execute_result"
    }
   ],
   "source": [
    "ne_circuits[0].draw('mpl')"
   ]
  },
  {
   "cell_type": "markdown",
   "metadata": {},
   "source": [
    "The barriers of all these circuits will represent the switch between a person. For example, because there are no eavesdroppers in this version of the protocol, the two separated sections of this circuit represent Alice and Bob. So, to look at how Alice encodes this qubit, we need to examine before the first barrier. When we do this, we see that we retrieve exactly what we expect. Alice wanted to prep a *0* state qubit in the **X** basis, which is done by using a hadamard gate here. You could examine all of this other pairs and find that they all behave as expected as well."
   ]
  },
  {
   "cell_type": "markdown",
   "metadata": {},
   "source": [
    "The next step of the protocol is for Bob to establish his bases, measure according to those bases, and then retrieve his results."
   ]
  },
  {
   "cell_type": "code",
   "execution_count": 32,
   "metadata": {},
   "outputs": [
    {
     "name": "stdout",
     "output_type": "stream",
     "text": [
      "Bob bases:    [1 0 1 0 1 0 0 0 0 0 1 1 0 0 0 1 1 0 1 0 0 1 0 1 1 1 1 1 1 0]\n",
      "Bob results:  [0 1 1 0 1 0 1 1 0 1 1 0 0 1 1 0 0 0 0 0 0 1 1 0 0 1 1 0 1 0]\n"
     ]
    }
   ],
   "source": [
    "print(\"Bob bases:   \", ne.bob_bases)\n",
    "print(\"Bob results: \", ne.bob_results)"
   ]
  },
  {
   "cell_type": "markdown",
   "metadata": {},
   "source": [
    "When looking at Bob's bases, recognize that this is the base that he is measuring in. So, if we were to look at the qubits' circuits, we would expect to see the absence or presence of hadamard gates before the measurement is made, depending on whether the base is labeled as a *0* or *1*. I will display a couple circuits below, and put in comments what we expect from them."
   ]
  },
  {
   "cell_type": "code",
   "execution_count": 33,
   "metadata": {},
   "outputs": [
    {
     "data": {
      "image/png": "[encoded data removed]",
      "text/plain": [
       "<Figure size 368.306x144.48 with 1 Axes>"
      ]
     },
     "execution_count": 33,
     "metadata": {},
     "output_type": "execute_result"
    }
   ],
   "source": [
    "# This is the 7th element, which is a 0 in the bases array\n",
    "# There should not be an H gate before the measurement on Bob's side\n",
    "ne_circuits[7].draw('mpl')"
   ]
  },
  {
   "cell_type": "code",
   "execution_count": 34,
   "metadata": {},
   "outputs": [
    {
     "data": {
      "image/png": "[encoded data removed]",
      "text/plain": [
       "<Figure size 368.306x144.48 with 1 Axes>"
      ]
     },
     "execution_count": 34,
     "metadata": {},
     "output_type": "execute_result"
    }
   ],
   "source": [
    "# This is the 10th element, which is a 1 in the bases array\n",
    "# There should be an H gate before the measurement on Bob's side\n",
    "ne_circuits[10].draw('mpl')"
   ]
  },
  {
   "cell_type": "code",
   "execution_count": 35,
   "metadata": {},
   "outputs": [
    {
     "name": "stdout",
     "output_type": "stream",
     "text": [
      "Alice sample:  [0 1 0 1 1]\n",
      "Bob sample:    [0 1 0 1 1]\n"
     ]
    }
   ],
   "source": [
    "print(\"Alice sample: \", ne.alice_sample)\n",
    "print(\"Bob sample:   \", ne.bob_sample)"
   ]
  },
  {
   "cell_type": "code",
   "execution_count": 36,
   "metadata": {},
   "outputs": [
    {
     "name": "stdout",
     "output_type": "stream",
     "text": [
      "Alice key:  [1, 1, 0, 1, 0, 0, 0, 0, 0, 0, 1]\n",
      "Bob key:    [1, 1, 0, 1, 0, 0, 0, 0, 0, 0, 1]\n"
     ]
    }
   ],
   "source": [
    "print(\"Alice key: \", ne.alice_key)\n",
    "print(\"Bob key:   \", ne.bob_key)"
   ]
  },
  {
   "cell_type": "code",
   "execution_count": 37,
   "metadata": {},
   "outputs": [
    {
     "name": "stdout",
     "output_type": "stream",
     "text": [
      "Probability that Eave is undetected IF she were present:  23.73 %\n"
     ]
    }
   ],
   "source": [
    "print(\"Probability that Eave is undetected IF she were present: \", round(ne.prob_eave_win() * 100, 2), \"%\")"
   ]
  },
  {
   "cell_type": "markdown",
   "metadata": {},
   "source": [
    "## Example with Eavesdropper"
   ]
  },
  {
   "cell_type": "code",
   "execution_count": 38,
   "metadata": {},
   "outputs": [],
   "source": [
    "e = QKD(True, 30, 5, seed=5)"
   ]
  },
  {
   "cell_type": "code",
   "execution_count": 39,
   "metadata": {},
   "outputs": [
    {
     "name": "stdout",
     "output_type": "stream",
     "text": [
      "Alice bits:   [1 0 1 1 0 0 0 1 0 0 1 0 1 0 0 0 1 0 1 1 1 1 0 1 0 1 1 1 1 0]\n",
      "Alice bases:  [0 0 1 0 0 1 1 0 1 1 0 1 0 1 0 0 1 0 0 0 0 0 0 1 1 1 1 0 0 0]\n"
     ]
    }
   ],
   "source": [
    "print(\"Alice bits:  \", e.alice_bits)\n",
    "print(\"Alice bases: \", e.alice_bases)"
   ]
  },
  {
   "cell_type": "code",
   "execution_count": 40,
   "metadata": {},
   "outputs": [],
   "source": [
    "e_circuits = e.circuits()"
   ]
  },
  {
   "cell_type": "code",
   "execution_count": 45,
   "metadata": {},
   "outputs": [
    {
     "name": "stdout",
     "output_type": "stream",
     "text": [
      "Bob bases:    [0 1 1 0 1 0 1 0 1 1 0 1 0 1 0 1 0 0 0 1 0 1 0 0 0 1 1 0 1 0]\n",
      "Bob results:  [1 0 0 1 0 0 1 1 1 0 1 1 0 1 0 0 1 0 1 0 1 1 1 1 0 1 1 1 1 0]\n"
     ]
    }
   ],
   "source": [
    "print(\"Bob bases:   \", e.bob_bases)\n",
    "print(\"Bob results: \", e.bob_results)"
   ]
  },
  {
   "cell_type": "code",
   "execution_count": 46,
   "metadata": {},
   "outputs": [
    {
     "data": {
      "image/png": "[encoded data removed]",
      "text/plain": [
       "<Figure size 488.706x144.48 with 1 Axes>"
      ]
     },
     "execution_count": 46,
     "metadata": {},
     "output_type": "execute_result"
    }
   ],
   "source": [
    "e_circuits[0].draw('mpl')"
   ]
  },
  {
   "cell_type": "code",
   "execution_count": 47,
   "metadata": {},
   "outputs": [
    {
     "name": "stdout",
     "output_type": "stream",
     "text": [
      "Alice sample:  [1 1 0 0 0]\n",
      "Bob sample:    [1 0 1 1 0]\n"
     ]
    }
   ],
   "source": [
    "print(\"Alice sample: \", e.alice_sample)\n",
    "print(\"Bob sample:   \", e.bob_sample)"
   ]
  },
  {
   "cell_type": "code",
   "execution_count": 48,
   "metadata": {},
   "outputs": [
    {
     "name": "stdout",
     "output_type": "stream",
     "text": [
      "Alice key:  [1 1 0 0 0]\n",
      "Bob key:    [1 0 1 1 0]\n"
     ]
    }
   ],
   "source": [
    "print(\"Alice key: \", e.alice_sample)\n",
    "print(\"Bob key:   \", e.bob_sample)"
   ]
  },
  {
   "cell_type": "code",
   "execution_count": 49,
   "metadata": {},
   "outputs": [
    {
     "name": "stdout",
     "output_type": "stream",
     "text": [
      "Probability that Eave is undetected:  23.73 %\n"
     ]
    }
   ],
   "source": [
    "print(\"Probability that Eave is undetected: \", round(ne.prob_eave_win() * 100, 2), \"%\")"
   ]
  }
 ],
 "metadata": {
  "kernelspec": {
   "display_name": "Python 3",
   "language": "python",
   "name": "python3"
  },
  "language_info": {
   "codemirror_mode": {
    "name": "ipython",
    "version": 3
   },
   "file_extension": ".py",
   "mimetype": "text/x-python",
   "name": "python",
   "nbconvert_exporter": "python",
   "pygments_lexer": "ipython3",
   "version": "3.8.5"
  }
 },
 "nbformat": 4,
 "nbformat_minor": 4
}
